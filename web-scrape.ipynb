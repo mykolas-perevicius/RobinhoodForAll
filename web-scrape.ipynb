{
 "cells": [
  {
   "cell_type": "code",
   "execution_count": 3,
   "metadata": {},
   "outputs": [],
   "source": [
    "from selenium import webdriver\n",
    "from selenium.webdriver.common.keys import Keys\n",
    "from selenium.webdriver.common.by import By\n",
    "from selenium.webdriver.chrome.service import Service\n",
    "from webdriver_manager.chrome import ChromeDriverManager\n",
    "from selenium.webdriver.support.ui import WebDriverWait\n",
    "from selenium.webdriver.support import expected_conditions as EC"
   ]
  },
  {
   "cell_type": "code",
   "execution_count": null,
   "metadata": {},
   "outputs": [],
   "source": [
    "# from selenium.webdriver.chrome.options import Options\n",
    "\n",
    "# chrome_options = Options()\n",
    "# chrome_options.add_argument(\"--headless\")  # Runs Chrome in headless mode.\n",
    "# driver = webdriver.Chrome(options=chrome_options, service=Service(ChromeDriverManager().install()))\n"
   ]
  },
  {
   "cell_type": "code",
   "execution_count": null,
   "metadata": {},
   "outputs": [],
   "source": [
    "driver = webdriver.Chrome(service=Service(ChromeDriverManager().install()))\n",
    "driver.get(\"https://robinhood.com/login\")\n",
    "\n",
    "# Wait for the page to load (you might need to add explicit waits)\n",
    "driver.implicitly_wait(3)\n",
    "\n",
    "wait = WebDriverWait(driver, 3)"
   ]
  },
  {
   "cell_type": "code",
   "execution_count": null,
   "metadata": {},
   "outputs": [],
   "source": [
    "userlogin = wait.until(EC.visibility_of_element_located((By.XPATH, \"//input[@name='username']\")))\n",
    "userlogin.send_keys(\"perevicius.mykolas@gmail.com\")\n"
   ]
  },
  {
   "cell_type": "code",
   "execution_count": null,
   "metadata": {},
   "outputs": [],
   "source": [
    "userlogin = wait.until(EC.visibility_of_element_located((By.CSS_SELECTOR, \"input[name='password']\")))\n",
    "userlogin.send_keys(\"k020904EXF!\")"
   ]
  },
  {
   "cell_type": "code",
   "execution_count": null,
   "metadata": {},
   "outputs": [],
   "source": [
    "\n",
    "# Using the name attribute for the checkbox\n",
    "keep_me_logged_in_checkbox = driver.find_element(By.CSS_SELECTOR, \"input[name='long_session']\")\n",
    "driver.execute_script(\"arguments[0].click();\", keep_me_logged_in_checkbox)\n",
    "\n"
   ]
  },
  {
   "cell_type": "code",
   "execution_count": null,
   "metadata": {},
   "outputs": [],
   "source": [
    "login_button = driver.find_element(By.CSS_SELECTOR, \"button[type='submit']\")\n",
    "driver.execute_script(\"arguments[0].click();\", login_button)\n"
   ]
  },
  {
   "cell_type": "code",
   "execution_count": null,
   "metadata": {},
   "outputs": [],
   "source": [
    "# Security Code"
   ]
  },
  {
   "cell_type": "code",
   "execution_count": null,
   "metadata": {},
   "outputs": [],
   "source": [
    "# /account/history\n",
    "# important for ALL data, and perhaps real time trades"
   ]
  },
  {
   "cell_type": "code",
   "execution_count": null,
   "metadata": {},
   "outputs": [],
   "source": [
    "# /account/reports-statements/activity-reports\n",
    "# important for latest"
   ]
  },
  {
   "cell_type": "code",
   "execution_count": null,
   "metadata": {},
   "outputs": [],
   "source": [
    "driver.get(\"https://robinhood.com/account/reports-statements/individual\")\n",
    "#download all monthly reports\n"
   ]
  },
  {
   "cell_type": "code",
   "execution_count": null,
   "metadata": {},
   "outputs": [],
   "source": [
    "download_link = wait.until(EC.element_to_be_clickable((By.CSS_SELECTOR, \"a[download]\")))\n",
    "\n",
    "# Click the first download link\n",
    "download_link.click()\n",
    "\n"
   ]
  },
  {
   "cell_type": "code",
   "execution_count": null,
   "metadata": {},
   "outputs": [],
   "source": [
    "# from pdfminer.high_level import extract_text\n",
    "\n",
    "# text = extract_text(r'C:\\Users\\miciu\\Downloads\\634f4556-3c92-40ba-8875-89ecd4697cdf.pdf')\n",
    "\n",
    "# print(text)"
   ]
  },
  {
   "cell_type": "code",
   "execution_count": null,
   "metadata": {},
   "outputs": [],
   "source": [
    "import PyPDF2\n",
    "\n",
    "# Open the PDF file\n",
    "with open(r'C:\\Users\\miciu\\Downloads\\634f4556-3c92-40ba-8875-89ecd4697cdf.pdf', 'rb') as file:\n",
    "    reader = PyPDF2.PdfReader(file)\n",
    "    \n",
    "    # If the PDF is encrypted, you'll need the password to decrypt it\n",
    "    # reader.decrypt('password')\n",
    "    \n",
    "    # Initialize an empty text string\n",
    "    text = \"\"\n",
    "\n",
    "    # Iterate over each page and extract text\n",
    "    for page in reader.pages:\n",
    "        text += page.extract_text()\n",
    "\n",
    "print(text)\n",
    "#todo: optimize pdf extraction\n"
   ]
  },
  {
   "cell_type": "code",
   "execution_count": null,
   "metadata": {},
   "outputs": [],
   "source": [
    "import re\n",
    "\n",
    "extracted_text = text\n",
    "# Define a dictionary to store the parsed data\n",
    "# Compile regular expressions for the different data fields\n",
    "# Regular expressions for data patterns\n",
    "data_patterns = {\n",
    "    \"Brokerage Cash Balance\": r\"Brokerage Cash Balance \\$([-\\d,.]+) \\$([-\\d,.]+)\",\n",
    "    \"Deposit Sweep Balance\": r\"Deposit Sweep Balance \\$([-\\d,.]+) \\$([-\\d,.]+)\",\n",
    "    \"Total Securities\": r\"Total Securities\\* \\$([-\\d,.]+) \\(\\$([-\\d,.]+)\\)\",\n",
    "    \"Portfolio Value\": r\"Portfolio Value \\$([-\\d,.]+) \\(\\$([-\\d,.]+)\\)\",\n",
    "    \"Cash and Cash Equivalents\": r\"Cash and Cash Equivalents\\s*([\\d.]+)%\",\n",
    "    \"Equities\": r\"Equities\\s*([\\d.]+)%\",\n",
    "    \"Options\": r\"Options\\s*([\\d.]+)%\",\n",
    "    \"Dividends\": r\"Dividends \\$([-\\d,.]+) \\$([-\\d,.]+)\",\n",
    "    \"Capital Gains Distributions\": r\"Capital Gains Distributions \\$([-\\d,.]+) \\$([-\\d,.]+)\",\n",
    "    \"Interest Earned\": r\"Interest Earned \\$([-\\d,.]+) \\$([-\\d,.]+)\",\n",
    "    \"Stock Lending\": r\"Stock Lending \\$([-\\d,.]+) \\$([-\\d,.]+)\",\n",
    "    \"Security Detail\": r\"(\\w+)\\s+(\\d{2}/\\d{2}/\\d{4})\\s+(\\w+)\\s+\\$(\\d+\\.\\d{2})\\nEstimated Yield: (\\d+\\.\\d{2})%(\\w+)\\s+(\\w+)\\s+(\\d+)\\s+\\$(\\d+\\.\\d{2})\\s+\\(\\$(\\d+,\\d+\\.\\d{2})\\) \\$(\\d+\\.\\d{2})\\s+(\\d+\\.\\d{2})%\"\n",
    "}\n",
    "\n",
    "extracted_data = {}\n",
    "\n",
    "for key, pattern in data_patterns.items():\n",
    "    matches = re.search(pattern, extracted_text, re.DOTALL)\n",
    "    if matches:\n",
    "        values = [matches.group(i) for i in range(1, matches.lastindex + 1)]\n",
    "        extracted_data[key] = values\n",
    "    else:\n",
    "        extracted_data[key] = None\n",
    "\n",
    "# Formatting and printing the output\n",
    "print(\"Account Summary\\nOpening Balance / Closing Balance\")\n",
    "print(f\"Brokerage Cash Balance: ${extracted_data['Brokerage Cash Balance'][0]} / ${extracted_data['Brokerage Cash Balance'][1]}\")\n",
    "print(f\"Deposit Sweep Balance: ${extracted_data['Deposit Sweep Balance'][0]} / ${extracted_data['Deposit Sweep Balance'][1]}\")\n",
    "print(f\"Total Securities*: ${extracted_data['Total Securities'][0]} / (${extracted_data['Total Securities'][1]})\")\n",
    "print(f\"Portfolio Value: ${extracted_data['Portfolio Value'][0]} / (${extracted_data['Portfolio Value'][1]})\\n\")\n",
    "\n",
    "print(\"Portfolio Allocation\")\n",
    "print(f\"Cash and Cash Equivalents: {extracted_data['Cash and Cash Equivalents'][0]}%\")\n",
    "print(f\"Equities: {extracted_data['Equities'][0]}%\")\n",
    "print(f\"Options: {extracted_data['Options'][0]}%\\n\")\n",
    "\n",
    "print(\"Income and Expense Summary\\nThis Period / Year to Date\")\n",
    "print(f\"Dividends: ${extracted_data['Dividends'][0]} / ${extracted_data['Dividends'][1]}\")\n",
    "print(f\"Capital Gains Distributions: ${extracted_data['Capital Gains Distributions'][0]} / ${extracted_data['Capital Gains Distributions'][1]}\")\n",
    "print(f\"Interest Earned: ${extracted_data['Interest Earned'][0]} / ${extracted_data['Interest Earned'][1]}\")\n",
    "print(f\"Stock Lending: ${extracted_data['Stock Lending'][0]} / ${extracted_data['Stock Lending'][1]}\")\n",
    "print(\"-----------------------------\")\n",
    "\n",
    "start_index = extracted_text.find(\"Portfolio Summary\\nSecurities Held in Account Sym/Cusip Acct Type Qty Price Mkt Value Est. Dividend Yield % of Total Portfolio\")\n",
    "if start_index != -1:\n",
    "    # Slice the text from the start of the portfolio summary onward\n",
    "    portfolio_section = text[start_index:]\n",
    "\n",
    "    # Improved regex pattern\n",
    "    pattern = r\"([A-Z]{3,5}) (\\d{2}/\\d{2}/\\d{4}) (Put|Call) \\$(\\d+,\\d+\\.\\d{2}|\\d+\\.\\d{2})\\nEstimated Yield: (\\d+\\.\\d{2})%([A-Z]{3,5}) (\\w+) (\\d+\\w*?) \\$(\\d+\\.\\d{2}) (\\$?-?\\d+,\\d+\\.\\d{2}|\\$?-?\\d+\\.\\d{2}|\\(\\$\\d+,\\d+\\.\\d{2}\\)) (\\$?-?\\d+,\\d+\\.\\d{2}|\\$?-?\\d+\\.\\d{2}|\\(\\$\\d+,\\d+\\.\\d{2}\\)) (\\d+\\.\\d{2})%\"\n",
    "\n",
    "    matches = list(re.finditer(pattern, portfolio_section, re.MULTILINE))\n",
    "\n",
    "    for match in matches:\n",
    "        print(f\"Security Name: {match.group(1)}\")\n",
    "        print(f\"Date: {match.group(2)}\")\n",
    "        print(f\"Type: {match.group(3)}\")\n",
    "        print(f\"Price: {match.group(4)}\")\n",
    "        print(f\"Estimated Yield: {match.group(5)}%\")\n",
    "        print(f\"Security Name Repeat: {match.group(6)}\")\n",
    "        print(f\"Account Type: {match.group(7)}\")\n",
    "        print(f\"Quantity: {match.group(8)}\")\n",
    "        print(f\"Price: {match.group(9)}\")\n",
    "        print(f\"Market Value: {match.group(10)}\")\n",
    "        print(f\"Market Value: {match.group(11)}\")\n",
    "        print(f\"Portfolio Percentage: {match.group(12)}%\")\n",
    "        print(\"-----------------------------\")\n",
    "\n",
    "\n",
    "else:\n",
    "    print(\"Portfolio Summary section not found.\")\n"
   ]
  },
  {
   "cell_type": "code",
   "execution_count": null,
   "metadata": {},
   "outputs": [],
   "source": [
    "#todo: print matches and extracted data with labels\n",
    "\n",
    "print(\"Extracted Data:\")\n",
    "for category, values in extracted_data.items():\n",
    "    print(f\"Category: {category}, Values: {values}\")\n",
    "\n",
    "print(\"\\nMatches:\")\n",
    "for match in matches:\n",
    "    print(f\"Match: {match.group(0)}\")\n"
   ]
  },
  {
   "cell_type": "code",
   "execution_count": 1,
   "metadata": {},
   "outputs": [],
   "source": [
    "\n",
    "import os\n",
    "import sqlite3\n",
    "\n",
    "# Close any existing connections to the database\n",
    "if 'conn' in globals():\n",
    "    conn.close()\n",
    "\n",
    "# Remove the existing database file if it exists\n",
    "if os.path.exists('portfolio.db'):\n",
    "    os.remove('portfolio.db')\n",
    "\n",
    "# Connect to the new database (or create it if it doesn't exist)\n",
    "conn = sqlite3.connect('portfolio.db')\n",
    "# Create cursor object\n",
    "cursor = conn.cursor()\n",
    "\n",
    "# Create table for account summary\n",
    "cursor.execute('''CREATE TABLE IF NOT EXISTS account_summary (\n",
    "                    id INTEGER PRIMARY KEY,\n",
    "                    category TEXT,\n",
    "                    opening_balance REAL,\n",
    "                    closing_balance REAL\n",
    "                )''')\n",
    "\n",
    "# Create table for income and expense summary\n",
    "cursor.execute('''CREATE TABLE IF NOT EXISTS income_expense_summary (\n",
    "                    id INTEGER PRIMARY KEY,\n",
    "                    category TEXT,\n",
    "                    this_period REAL,\n",
    "                    year_to_date REAL\n",
    "                )''')\n",
    "\n",
    "# Create table for portfolio allocation\n",
    "cursor.execute('''CREATE TABLE IF NOT EXISTS portfolio_allocation (\n",
    "                    id INTEGER PRIMARY KEY,\n",
    "                    category TEXT,\n",
    "                    percentage REAL\n",
    "                )''')\n",
    "\n",
    "# Create table for portfolio details\n",
    "cursor.execute('''CREATE TABLE IF NOT EXISTS portfolio_details (\n",
    "                    id INTEGER PRIMARY KEY,\n",
    "                    security_name TEXT,\n",
    "                    date TEXT,\n",
    "                    type TEXT,\n",
    "                    price REAL,\n",
    "                    estimated_yield REAL,\n",
    "                    account_type TEXT,\n",
    "                    quantity REAL,\n",
    "                    price2 REAL,\n",
    "                    market_value REAL,\n",
    "                    portfolio_percentage REAL\n",
    "                )''')\n",
    "\n",
    "# Commit changes and close connection\n",
    "conn.commit()\n"
   ]
  },
  {
   "cell_type": "code",
   "execution_count": 2,
   "metadata": {},
   "outputs": [
    {
     "name": "stdout",
     "output_type": "stream",
     "text": [
      "ACCOUNT SUMMARY\n"
     ]
    },
    {
     "ename": "NameError",
     "evalue": "name 'extracted_data' is not defined",
     "output_type": "error",
     "traceback": [
      "\u001b[1;31m---------------------------------------------------------------------------\u001b[0m",
      "\u001b[1;31mNameError\u001b[0m                                 Traceback (most recent call last)",
      "Cell \u001b[1;32mIn[2], line 7\u001b[0m\n\u001b[0;32m      4\u001b[0m cursor \u001b[38;5;241m=\u001b[39m conn\u001b[38;5;241m.\u001b[39mcursor() \n\u001b[0;32m      6\u001b[0m \u001b[38;5;28mprint\u001b[39m(\u001b[38;5;124m\"\u001b[39m\u001b[38;5;124mACCOUNT SUMMARY\u001b[39m\u001b[38;5;124m\"\u001b[39m) \n\u001b[1;32m----> 7\u001b[0m \u001b[38;5;28;01mfor\u001b[39;00m category, values \u001b[38;5;129;01min\u001b[39;00m \u001b[43mextracted_data\u001b[49m\u001b[38;5;241m.\u001b[39mitems():\n\u001b[0;32m      8\u001b[0m     \u001b[38;5;28;01mif\u001b[39;00m values \u001b[38;5;129;01mis\u001b[39;00m \u001b[38;5;129;01mnot\u001b[39;00m \u001b[38;5;28;01mNone\u001b[39;00m \u001b[38;5;129;01mand\u001b[39;00m \u001b[38;5;28mlen\u001b[39m(values) \u001b[38;5;241m==\u001b[39m \u001b[38;5;241m2\u001b[39m:\n\u001b[0;32m      9\u001b[0m         cursor\u001b[38;5;241m.\u001b[39mexecute(\u001b[38;5;124m\"\u001b[39m\u001b[38;5;124mINSERT INTO account_summary (category, opening_balance, closing_balance) VALUES (?, ?, ?)\u001b[39m\u001b[38;5;124m\"\u001b[39m, (category, values[\u001b[38;5;241m0\u001b[39m], values[\u001b[38;5;241m1\u001b[39m]))\n",
      "\u001b[1;31mNameError\u001b[0m: name 'extracted_data' is not defined"
     ]
    }
   ],
   "source": [
    "#TODO: INSERT VALUES PROPERLY\n",
    "\n",
    "conn = sqlite3.connect('portfolio.db')\n",
    "cursor = conn.cursor() \n",
    "\n",
    "print(\"ACCOUNT SUMMARY\") \n",
    "for category, values in extracted_data.items():\n",
    "    if values is not None and len(values) == 2:\n",
    "        cursor.execute(\"INSERT INTO account_summary (category, opening_balance, closing_balance) VALUES (?, ?, ?)\", (category, values[0], values[1]))\n",
    "    else:\n",
    "        print(f\"Skipping CATEGORY {category}, {values} as it does not have the required number of values.\")\n",
    "\n",
    "print(\"INCOME EXPENSE SUMMARY\")\n",
    "for category, values in extracted_data.items():\n",
    "    if values is not None and len(values) == 2:\n",
    "        cursor.execute(\"INSERT INTO income_expense_summary (category, this_period, year_to_date) VALUES (?, ?, ?)\", (category, values[0], values[1]))\n",
    "    else:\n",
    "        print(f\"Skipping CATEGORY {category}, {values} as it does not have the required number of values.\")\n",
    "\n",
    "\n",
    "print(\"PORFOLIO ALLOCATION\")\n",
    "for category, value in extracted_data.items():\n",
    "    if value is not None and \"Percentage\" in category:\n",
    "        cursor.execute(\"INSERT INTO portfolio_allocation (category, percentage) VALUES (?, ?)\", (category, value))\n",
    "    else:\n",
    "        print(f\"Skipping CATEGORY {category}, {values} as it does not have the required number of values.\")\n",
    "\n",
    "# Insert data into portfolio details table\n",
    "for match in matches:\n",
    "    if match is not None and match.group(1):\n",
    "        cursor.execute(\"INSERT INTO portfolio_details (security_name, date, type, price, estimated_yield, account_type, quantity, price2, market_value, portfolio_percentage) VALUES (?, ?, ?, ?, ?, ?, ?, ?, ?, ?)\",\n",
    "                   (match.group(1), match.group(2), match.group(3), match.group(4), match.group(5), match.group(7), match.group(8), match.group(9), match.group(10), match.group(12)))\n",
    "    else:\n",
    "        print(f\"Skipping STOCK MATCH {match} as it does not have the required number of values.\")\n",
    "    \n",
    "\n",
    "# Commit changes and close connection\n",
    "conn.commit()\n",
    "conn.close()"
   ]
  },
  {
   "cell_type": "code",
   "execution_count": 36,
   "metadata": {},
   "outputs": [
    {
     "name": "stdout",
     "output_type": "stream",
     "text": [
      "ACCOUNT SUMMARY\n",
      "INCOME EXPENSE SUMMARY\n",
      "PORTFOLIO ALLOCATION\n"
     ]
    }
   ],
   "source": [
    "conn = sqlite3.connect('portfolio.db')\n",
    "cursor = conn.cursor() \n",
    "\n",
    "print(\"ACCOUNT SUMMARY\")\n",
    "for category in [\"Brokerage Cash Balance\", \"Deposit Sweep Balance\", \"Total Securities\", \"Portfolio Value\"]:\n",
    "    if extracted_data[category] is not None and len(extracted_data[category]) == 2:\n",
    "        cursor.execute(\"INSERT INTO account_summary (category, opening_balance, closing_balance) VALUES (?, ?, ?)\", (category, extracted_data[category][0], extracted_data[category][1]))\n",
    "    else:\n",
    "        print(f\"Skipping CATEGORY {category}, {extracted_data[category]} as it does not have the required number of values.\")\n",
    "\n",
    "print(\"INCOME EXPENSE SUMMARY\")\n",
    "for category in [\"Dividends\", \"Capital Gains Distributions\", \"Interest Earned\", \"Stock Lending\"]:\n",
    "    if extracted_data[category] is not None and len(extracted_data[category]) == 2:\n",
    "        cursor.execute(\"INSERT INTO income_expense_summary (category, this_period, year_to_date) VALUES (?, ?, ?)\", (category, extracted_data[category][0], extracted_data[category][1]))\n",
    "    else:\n",
    "        print(f\"Skipping CATEGORY {category}, {extracted_data[category]} as it does not have the required number of values.\")\n",
    "\n",
    "print(\"PORTFOLIO ALLOCATION\")\n",
    "for category in [\"Cash and Cash Equivalents\", \"Equities\", \"Options\"]:\n",
    "    if extracted_data[category] is not None and len(extracted_data[category]) == 1:\n",
    "        cursor.execute(\"INSERT INTO portfolio_allocation (category, percentage) VALUES (?, ?)\", (category, extracted_data[category][0]))\n",
    "    else:\n",
    "        print(f\"Skipping CATEGORY {category}, {extracted_data[category]} as it does not have the required number of values.\")\n",
    "\n",
    "conn.commit()\n",
    "conn.close()"
   ]
  },
  {
   "cell_type": "code",
   "execution_count": null,
   "metadata": {},
   "outputs": [],
   "source": [
    "conn = sqlite3.connect('portfolio.db')\n",
    "cursor = conn.cursor() \n",
    "print(\"ACCOUNT SUMMARY\")\n",
    "account_summary_categories = [\"Brokerage Cash Balance\", \"Deposit Sweep Balance\", \"Total Securities\", \"Portfolio Value\"]\n",
    "for category in account_summary_categories:\n",
    "    values = extracted_data.get(category)\n",
    "    if values is not None and len(values) == 2:\n",
    "        cursor.execute(\"INSERT INTO account_summary (category, opening_balance, closing_balance) VALUES (?, ?, ?)\", (category, values[0], values[1]))\n",
    "    else:\n",
    "        print(f\"Skipping CATEGORY {category}, {values} as it does not have the required number of values.\")\n",
    "\n",
    "print(\"INCOME EXPENSE SUMMARY\")\n",
    "income_expense_categories = [\"Dividends\", \"Capital Gains Distributions\", \"Interest Earned\", \"Stock Lending\"]\n",
    "for category in income_expense_categories:\n",
    "    values = extracted_data.get(category)\n",
    "    if values is not None and len(values) == 2:\n",
    "        cursor.execute(\"INSERT INTO income_expense_summary (category, this_period, year_to_date) VALUES (?, ?, ?)\", (category, values[0], values[1]))\n",
    "    else:\n",
    "        print(f\"Skipping CATEGORY {category}, {values} as it does not have the required number of values.\")\n",
    "\n",
    "print(\"PORTFOLIO ALLOCATION\")\n",
    "allocation_categories = [\"Cash and Cash Equivalents\", \"Equities\", \"Options\"]\n",
    "for category in allocation_categories:\n",
    "    value = extracted_data.get(category)\n",
    "    if value is not None and len(value) == 1:\n",
    "        cursor.execute(\"INSERT INTO portfolio_allocation (category, percentage) VALUES (?, ?)\", (category, value[0]))\n",
    "    else:\n",
    "        print(f\"Skipping CATEGORY {category}, {value} as it does not have the required number of values.\")\n",
    "\n",
    "conn.commit()\n",
    "conn.close()"
   ]
  },
  {
   "cell_type": "code",
   "execution_count": 37,
   "metadata": {},
   "outputs": [
    {
     "name": "stdout",
     "output_type": "stream",
     "text": [
      "Account Summary:\n",
      "(1, 'Brokerage Cash Balance', 0.0, 26.94)\n",
      "(2, 'Deposit Sweep Balance', 260.25, 0.0)\n",
      "(3, 'Total Securities', 0.0, 435.0)\n",
      "(4, 'Portfolio Value', 260.25, 408.06)\n",
      "(5, 'Dividends', 0.0, 0.0)\n",
      "(6, 'Capital Gains Distributions', 0.0, 0.0)\n",
      "(7, 'Interest Earned', 0.0, 0.01)\n",
      "(8, 'Stock Lending', 0.0, 0.0)\n",
      "(9, 'Brokerage Cash Balance', 0.0, 26.94)\n",
      "(10, 'Deposit Sweep Balance', 260.25, 0.0)\n",
      "(11, 'Total Securities', 0.0, 435.0)\n",
      "(12, 'Portfolio Value', 260.25, 408.06)\n",
      "\n",
      "Income and Expense Summary:\n",
      "(1, 'Brokerage Cash Balance', 0.0, 26.94)\n",
      "(2, 'Deposit Sweep Balance', 260.25, 0.0)\n",
      "(3, 'Total Securities', 0.0, 435.0)\n",
      "(4, 'Portfolio Value', 260.25, 408.06)\n",
      "(5, 'Dividends', 0.0, 0.0)\n",
      "(6, 'Capital Gains Distributions', 0.0, 0.0)\n",
      "(7, 'Interest Earned', 0.0, 0.01)\n",
      "(8, 'Stock Lending', 0.0, 0.0)\n",
      "(9, 'Dividends', 0.0, 0.0)\n",
      "(10, 'Capital Gains Distributions', 0.0, 0.0)\n",
      "(11, 'Interest Earned', 0.0, 0.01)\n",
      "(12, 'Stock Lending', 0.0, 0.0)\n",
      "\n",
      "Portfolio Allocation:\n",
      "(1, 'Cash and Cash Equivalents', 0.16)\n",
      "(2, 'Equities', 0.0)\n",
      "(3, 'Options', 99.84)\n",
      "\n",
      "Portfolio Details:\n",
      "(1, 'GETY', '03/15/2024', 'Put', 4.0, 0.0, 'Margin', 2.0, 0.1, '$20.00', 0.12)\n",
      "(2, 'NVDA', '06/21/2024', 'Call', '1,000.00', 0.0, 'Margin', '1S', 23.63, '($2,363.00)', 13.62)\n",
      "(3, 'NVDA', '06/21/2024', 'Call', 990.0, 0.0, 'Margin', 1.0, 25.38, '$2,538.00', 14.63)\n",
      "(4, 'SMCI', '03/15/2024', 'Put', 860.0, 0.0, 'Margin', 1.0, 58.85, '$5,885.00', 33.92)\n",
      "(5, 'SMCI', '03/15/2024', 'Put', 870.0, 0.0, 'Margin', '1S', 65.15, '($6,515.00)', 37.55)\n"
     ]
    }
   ],
   "source": [
    "conn = sqlite3.connect('portfolio.db')\n",
    "cursor = conn.cursor()\n",
    "\n",
    "# Display data from account_summary table\n",
    "print(\"Account Summary:\")\n",
    "cursor.execute(\"SELECT * FROM account_summary\")\n",
    "for row in cursor.fetchall():\n",
    "    print(row)\n",
    "\n",
    "# Display data from income_expense_summary table\n",
    "print(\"\\nIncome and Expense Summary:\")\n",
    "cursor.execute(\"SELECT * FROM income_expense_summary\")\n",
    "for row in cursor.fetchall():\n",
    "    print(row)\n",
    "\n",
    "# Display data from portfolio_allocation table\n",
    "print(\"\\nPortfolio Allocation:\")\n",
    "cursor.execute(\"SELECT * FROM portfolio_allocation\")\n",
    "for row in cursor.fetchall():\n",
    "    print(row)\n",
    "\n",
    "# Display data from portfolio_details table\n",
    "print(\"\\nPortfolio Details:\")\n",
    "cursor.execute(\"SELECT * FROM portfolio_details\")\n",
    "for row in cursor.fetchall():\n",
    "    print(row)\n",
    "\n",
    "# Close the connection\n",
    "conn.close()\n",
    "\n",
    "#todo print with proper labels"
   ]
  },
  {
   "cell_type": "code",
   "execution_count": null,
   "metadata": {},
   "outputs": [],
   "source": [
    "#data validation?"
   ]
  },
  {
   "cell_type": "code",
   "execution_count": null,
   "metadata": {},
   "outputs": [],
   "source": [
    "#display in webapp"
   ]
  },
  {
   "cell_type": "code",
   "execution_count": null,
   "metadata": {},
   "outputs": [],
   "source": [
    "# Not only project the current summary, winners, and losers, but run stimulations on timelines, strike price, and (correlated) ticker choices for options and stocks.\n",
    "# Will require external API for stock data and perhaps some homegrown math"
   ]
  },
  {
   "cell_type": "code",
   "execution_count": null,
   "metadata": {},
   "outputs": [],
   "source": []
  }
 ],
 "metadata": {
  "kernelspec": {
   "display_name": "Python 3",
   "language": "python",
   "name": "python3"
  },
  "language_info": {
   "codemirror_mode": {
    "name": "ipython",
    "version": 3
   },
   "file_extension": ".py",
   "mimetype": "text/x-python",
   "name": "python",
   "nbconvert_exporter": "python",
   "pygments_lexer": "ipython3",
   "version": "3.11.4"
  }
 },
 "nbformat": 4,
 "nbformat_minor": 2
}
